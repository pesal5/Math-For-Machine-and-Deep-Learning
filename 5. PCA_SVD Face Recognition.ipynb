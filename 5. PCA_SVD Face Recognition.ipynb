{
 "cells": [
  {
   "cell_type": "markdown",
   "metadata": {},
   "source": [
    "## Goal: The content  implements the algorithm  \"Eigenfaces for Face Detection/Recognition\", a journal paper by Turk and Petland \n",
    "### Many of the mathematics required for this journal as well as machine learning  are described with python code in the previous posts of Linear Algerba for Machine Learning "
   ]
  },
  {
   "cell_type": "code",
   "execution_count": 1,
   "metadata": {},
   "outputs": [],
   "source": [
    "import numpy as np\n",
    "from numpy import array\n",
    "from matplotlib import pyplot as plt\n",
    "from PIL import Image"
   ]
  },
  {
   "cell_type": "markdown",
   "metadata": {},
   "source": [
    "##  Let's implement the algorithm described in the paper as: \n",
    "###                                   Computation of the eigenfaces\n",
    "### Step 1: obtain training face images I1, I2, ..., IM (training faces)\n",
    "### Step 2 : represent every image $I_{i}$ as a face vector ${\\tau}_{i}$\n",
    "### Step 3:  Calculate average face\n",
    "## $ \\psi \\; =  1/M * \\sum\\limits _{i=1}^{M}{\\tau}_{i}$\n",
    "### Step 4 :Subtract mean face from each training face\n",
    "## $ {\\phi}_{i}\\; =  {\\tau}_{i} - \\psi$\n",
    "### Step 5 : Calculate Covariance Matrix \n",
    "## $ C = 1/M * A.A^{T}$ where M is total sample faces in the dataset \n",
    "### sicne $A.A^{T}$ is very large we can  compute $A^{T}.A$ and its eigen vectors  but in this problem i just calculated $ A.A^{T}$ and its eigen vectors and values  using Singuar Value Decomposition\n",
    "\n",
    "### Step 6: Compute eigennvectors and values from SVD\n",
    "### U, S, V = SVD(C =  $ 1/M*A.A^{T}$) , U and V are eigen vectors and S is the eigen value \n",
    "### Step 7: Select only the K eigen vectors of U correpsonding to Highest K eigen values\n"
   ]
  },
  {
   "cell_type": "markdown",
   "metadata": {},
   "source": [
    "### Now implement the above steps  as below:\n",
    "### Step 1: obtain training face images I1, I2, ..., IM (training faces)"
   ]
  },
  {
   "cell_type": "code",
   "execution_count": 2,
   "metadata": {},
   "outputs": [],
   "source": [
    "img_array = []\n",
    "Vec = []\n",
    "def data_process(i):\n",
    "                        imag = Image.open(f'image data/{i}a.jpg') ## retreive images from current directory ++\n",
    "                          ## ++ using i' current value eg (f'img dt1/{i}a.jpg')- if i =1 then 1a image retreived  \n",
    "                                     \n",
    "                        im = imag.convert('L')  # convert RGB image to grayscale\n",
    "                                \n",
    "                        width, height = 50,50  # resize the image with 50*50 dimension \n",
    "                        rszed_img = im.resize((width, height),Image.ANTIALIAS)\n",
    "                             \n",
    "                        img_array = np.array(rszed_img)\n",
    "\n",
    "                          # now flatten the 50*50 image matrix array into N^2 * 1 column vector = 2500*1 column vector\n",
    "                        col_vect_img = img_array.flatten()\n",
    "                               # print(col_vect_img.shape)\n",
    "                        Vec.append(col_vect_img)\n",
    "                \n",
    "\n",
    "### import images from a dataset and store  in the image aray\n",
    "for i in range(1,10):\n",
    "           \n",
    "               #for j in range(1,3):   \n",
    "                       \n",
    "                     data_process(i)"
   ]
  },
  {
   "cell_type": "markdown",
   "metadata": {},
   "source": [
    "### Step 2 : represent every image $I_{i}$ as a face vector ${\\tau}_{i}$\n",
    "### The sample dataset containes  9 Training Face Images into matrix form as below."
   ]
  },
  {
   "cell_type": "code",
   "execution_count": 3,
   "metadata": {},
   "outputs": [
    {
     "name": "stdout",
     "output_type": "stream",
     "text": [
      "[[182 182 181 ...  81 123 122]\n",
      " [196 196 197 ...  28  24  23]\n",
      " [195 195 195 ...  19  22  23]\n",
      " ...\n",
      " [248 248 248 ... 121 122 123]\n",
      " [184 184 184 ...  44  41  38]\n",
      " [165 166 165 ... 120 122 124]]\n",
      "(9, 2500)\n"
     ]
    }
   ],
   "source": [
    "tau = array(Vec)  #    tau is the 2d vmatrix representing  array of faces  \n",
    "print(tau)\n",
    "print(tau.shape)\n"
   ]
  },
  {
   "cell_type": "code",
   "execution_count": 4,
   "metadata": {},
   "outputs": [
    {
     "name": "stdout",
     "output_type": "stream",
     "text": [
      "(9, 2500)\n"
     ]
    }
   ],
   "source": [
    "print(tau.shape)  ## toal image = 9 and each image is 2500 pixels when transfomred into a column vector (50*50 = 2500)"
   ]
  },
  {
   "cell_type": "markdown",
   "metadata": {},
   "source": [
    "#### Lets see the  pixel values of 1st image in the trainign set"
   ]
  },
  {
   "cell_type": "code",
   "execution_count": 5,
   "metadata": {},
   "outputs": [
    {
     "name": "stdout",
     "output_type": "stream",
     "text": [
      "[182 182 181 ...  81 123 122]\n",
      "(2500,)\n"
     ]
    }
   ],
   "source": [
    "print(tau[0,:]) \n",
    "print(tau[0,:].shape)   ### the 1st image is represented as a column vector and in numpy such representation assumes \n",
    "                          ### each sub array array (within a face matrix like tau) represents  pixels values for single image "
   ]
  },
  {
   "cell_type": "markdown",
   "metadata": {},
   "source": [
    "### Step 3 . Calcuate the mean/ average face\n",
    "# $ \\psi \\; =  1/M * \\sum\\limits _{i=1}^{M}{\\tau}_{i}$\n"
   ]
  },
  {
   "cell_type": "code",
   "execution_count": 9,
   "metadata": {},
   "outputs": [
    {
     "name": "stdout",
     "output_type": "stream",
     "text": [
      "<class 'numpy.ndarray'>\n",
      "Mean Face of all pictures column wise [199.77777778 200.         199.77777778 ...  50.55555556  57.66666667\n",
      "  58.22222222]\n",
      "Mean Face Psi of all pictures =  [199.77777778 200.         199.77777778 ...  50.55555556  57.66666667\n",
      "  58.22222222]\n",
      "(2500,)\n"
     ]
    }
   ],
   "source": [
    "from numpy import array\n",
    "from numpy import mean\n",
    "mean_face = mean(tau, axis =0)  # take mean values of the overall matrix column wise where each column ++ \n",
    "                    ##++ represents the  particular pixel value of all pictures at that coordinate positon becuase in numpy \n",
    "                        ## each image represented as a column vector is represented as  one array element.\n",
    "print(type(mean_face))\n",
    "print(\"Mean Face of all pictures column wise\",mean_face)\n",
    "\n",
    "Psi = mean_face ### it's not necessary to assign mean_face as Psi but for readability it is done so\n",
    "                  \n",
    "print(\"Mean Face Psi of all pictures = \", Psi)\n",
    "print(Psi.shape)"
   ]
  },
  {
   "cell_type": "markdown",
   "metadata": {},
   "source": [
    "### Lest Plot the mean face and see how the mean image looks like "
   ]
  },
  {
   "cell_type": "code",
   "execution_count": 10,
   "metadata": {},
   "outputs": [
    {
     "data": {
      "text/plain": [
       "Text(0.5, 1.0, 'Mean Face')"
      ]
     },
     "execution_count": 10,
     "metadata": {},
     "output_type": "execute_result"
    },
    {
     "data": {
      "image/png": "[encoded data removed]",
      "text/plain": [
       "<Figure size 432x288 with 1 Axes>"
      ]
     },
     "metadata": {
      "needs_background": "light"
     },
     "output_type": "display_data"
    }
   ],
   "source": [
    "from matplotlib import pyplot as plt\n",
    "plt.imshow(Psi.reshape(50,50),cmap='gray'); \n",
    "plt.title('Mean Face')"
   ]
  },
  {
   "cell_type": "markdown",
   "metadata": {},
   "source": [
    "## Step 4:  Subtract mean face from each training face\n",
    "# $ {\\phi}_{i}\\; =  {\\tau}_{i} - \\psi$\n"
   ]
  },
  {
   "cell_type": "code",
   "execution_count": 11,
   "metadata": {},
   "outputs": [
    {
     "name": "stdout",
     "output_type": "stream",
     "text": [
      "[[-17.77777778 -18.         -18.77777778 ...  30.44444444  65.33333333\n",
      "   63.77777778]\n",
      " [ -3.77777778  -4.          -2.77777778 ... -22.55555556 -33.66666667\n",
      "  -35.22222222]\n",
      " [ -4.77777778  -5.          -4.77777778 ... -31.55555556 -35.66666667\n",
      "  -35.22222222]\n",
      " ...\n",
      " [ 48.22222222  48.          48.22222222 ...  70.44444444  64.33333333\n",
      "   64.77777778]\n",
      " [-15.77777778 -16.         -15.77777778 ...  -6.55555556 -16.66666667\n",
      "  -20.22222222]\n",
      " [-34.77777778 -34.         -34.77777778 ...  69.44444444  64.33333333\n",
      "   65.77777778]]\n",
      "(9, 2500)\n"
     ]
    }
   ],
   "source": [
    "# get PHI = subtract mean from each col vector or from each image\n",
    "Phi = tau - Psi\n",
    "print(Phi)   # # here each image is represented row wise not column wise \n",
    "print(Phi.shape)  "
   ]
  },
  {
   "cell_type": "markdown",
   "metadata": {},
   "source": [
    "### Step 5 : Calculate Covariance Matrix \n",
    "## $ C = 1/M * A.A^{T}$ where M is total sample faces in the dataset \n",
    "## where A is $\\phi $ here"
   ]
  },
  {
   "cell_type": "code",
   "execution_count": 12,
   "metadata": {},
   "outputs": [
    {
     "name": "stdout",
     "output_type": "stream",
     "text": [
      "[[ 524.83950617  522.          527.72839506 ...  -53.43209877\n",
      "  -137.85185185 -124.17283951]\n",
      " [ 522.          519.33333333  525.         ...  -49.66666667\n",
      "  -135.22222222 -120.77777778]\n",
      " [ 527.72839506  525.          531.0617284  ...  -60.09876543\n",
      "  -151.74074074 -137.28395062]\n",
      " ...\n",
      " [ -53.43209877  -49.66666667  -60.09876543 ... 1823.80246914\n",
      "  1916.2962963  1911.7654321 ]\n",
      " [-137.85185185 -135.22222222 -151.74074074 ... 1916.2962963\n",
      "  2208.         2196.18518519]\n",
      " [-124.17283951 -120.77777778 -137.28395062 ... 1911.7654321\n",
      "  2196.18518519 2190.17283951]]\n"
     ]
    }
   ],
   "source": [
    "cov_mtrx = 1/9* Phi.T.dot(Phi)\n",
    "print(cov_mtrx)"
   ]
  },
  {
   "cell_type": "markdown",
   "metadata": {},
   "source": [
    "### Note --> Rank of Original image matrix vs Covariance matrix -->Here in the above covaraince the  dimensions of the original dataset is reduced by finding the correlation, but  still with such reduced form one can  approximately retain the original image maximum information.\n",
    "\n",
    "#### As it can be seen that the rank of covariance matrix is smaller compared to the original dataset matrix's rank"
   ]
  },
  {
   "cell_type": "code",
   "execution_count": 58,
   "metadata": {},
   "outputs": [
    {
     "name": "stdout",
     "output_type": "stream",
     "text": [
      "the rank of original matrix is  =  9\n"
     ]
    }
   ],
   "source": [
    "print(\"the rank of original matrix is  = \", np.linalg.matrix_rank(tau))"
   ]
  },
  {
   "cell_type": "code",
   "execution_count": 59,
   "metadata": {},
   "outputs": [
    {
     "name": "stdout",
     "output_type": "stream",
     "text": [
      "the rank of covariance matrix is  =  8\n"
     ]
    }
   ],
   "source": [
    "#from numpy.linalg import matrix_rank\n",
    "print(\"the rank of covariance matrix is  = \", np.linalg.matrix_rank(cov_mtrx))"
   ]
  },
  {
   "cell_type": "markdown",
   "metadata": {},
   "source": [
    "### Step 6: Compute eigennvectors and values from SVD\n",
    "###  U, S, V = SVD($ 1/M*A.A^{T}$) , U and V are eigen vectors and S is the eigen value \n",
    "\n",
    "### U is the numerical value that determines one face vs the other "
   ]
  },
  {
   "cell_type": "code",
   "execution_count": 63,
   "metadata": {},
   "outputs": [
    {
     "name": "stdout",
     "output_type": "stream",
     "text": [
      "[[-0.00647466 -0.00626376  0.00180496 ...  0.06615908 -0.01469635\n",
      "   0.0145002 ]\n",
      " [-0.00657194 -0.00633763  0.0014738  ...  0.10651955 -0.0104971\n",
      "  -0.01666613]\n",
      " [-0.00675878 -0.0062386   0.00157599 ...  0.05411825 -0.02884979\n",
      "  -0.01033678]\n",
      " ...\n",
      " [ 0.02218892 -0.0202691  -0.02993958 ... -0.02000696  0.03067539\n",
      "  -0.0103409 ]\n",
      " [ 0.02579408 -0.02095652 -0.02560288 ...  0.01165284  0.00892754\n",
      "   0.00242553]\n",
      " [ 0.02461724 -0.0218208  -0.02664836 ...  0.05489024 -0.01176765\n",
      "   0.05909717]]\n",
      "[1.50954540e+06 1.29312288e+06 5.27784521e+05 ... 4.97929036e-11\n",
      " 4.72888588e-11 1.84431824e-11]\n",
      "[[-0.00647466 -0.00657194 -0.00675878 ...  0.02218892  0.02579408\n",
      "   0.02461724]\n",
      " [-0.00626376 -0.00633763 -0.0062386  ... -0.0202691  -0.02095652\n",
      "  -0.0218208 ]\n",
      " [ 0.00180496  0.0014738   0.00157599 ... -0.02993958 -0.02560288\n",
      "  -0.02664836]\n",
      " ...\n",
      " [ 0.         -0.01841965 -0.02361186 ... -0.00080894 -0.01633223\n",
      "   0.00424081]\n",
      " [ 0.          0.01934397  0.00132478 ...  0.01281081 -0.01861862\n",
      "   0.01999523]\n",
      " [ 0.          0.00248632  0.00765087 ... -0.00924463  0.01853001\n",
      "   0.0133151 ]]\n"
     ]
    }
   ],
   "source": [
    "U, S, V_T = np.linalg.svd(cov_mtrx)\n",
    "\n",
    "print(U)  \n",
    "\n",
    "print(S)\n",
    "print(V_T)  ## in numpy the calcuates V value is the  V transpose so denote it by V_T"
   ]
  },
  {
   "cell_type": "code",
   "execution_count": 64,
   "metadata": {},
   "outputs": [
    {
     "name": "stdout",
     "output_type": "stream",
     "text": [
      "eigen faces/eigen vectors U from SVD =  [[-0.00647466 -0.00626376  0.00180496 ...  0.06615908 -0.01469635\n",
      "   0.0145002 ]\n",
      " [-0.00657194 -0.00633763  0.0014738  ...  0.10651955 -0.0104971\n",
      "  -0.01666613]\n",
      " [-0.00675878 -0.0062386   0.00157599 ...  0.05411825 -0.02884979\n",
      "  -0.01033678]\n",
      " ...\n",
      " [ 0.02218892 -0.0202691  -0.02993958 ... -0.02000696  0.03067539\n",
      "  -0.0103409 ]\n",
      " [ 0.02579408 -0.02095652 -0.02560288 ...  0.01165284  0.00892754\n",
      "   0.00242553]\n",
      " [ 0.02461724 -0.0218208  -0.02664836 ...  0.05489024 -0.01176765\n",
      "   0.05909717]]\n",
      "eigen faces/eigen vectors U from SVD =  (2500, 2500)\n",
      "EGN VAL [1.50954540e+06 1.29312288e+06 5.27784521e+05 ... 4.97929036e-11\n",
      " 4.72888588e-11 1.84431824e-11]\n",
      "Eigen values from SVD =  (2500,)\n"
     ]
    }
   ],
   "source": [
    "print(\"eigen faces/eigen vectors U from SVD = \",U)\n",
    "print(\"eigen faces/eigen vectors U from SVD = \", U.shape)\n",
    "print(\"EGN VAL\",S)\n",
    "print(\"Eigen values from SVD = \", S.shape)"
   ]
  },
  {
   "cell_type": "markdown",
   "metadata": {},
   "source": [
    "### Note that each eigen values's corresposding eigen vector is a column elemnt of U\n",
    "### i.e the first eigen vector u1 corresposing to eigen value S1 is as below"
   ]
  },
  {
   "cell_type": "code",
   "execution_count": 18,
   "metadata": {},
   "outputs": [
    {
     "name": "stdout",
     "output_type": "stream",
     "text": [
      "The First/Highest  eigen value =  1509545.3950034895 and [-0.00647466 -0.00657194 -0.00675878 ...  0.02218892  0.02579408\n",
      "  0.02461724]  is the corresposing eigen vector  \n"
     ]
    }
   ],
   "source": [
    "print(\"The First/Highest  eigen value = \",S[0] ,\"and\", U[:,0], \" is the corresposing eigen vector  \" )"
   ]
  },
  {
   "cell_type": "markdown",
   "metadata": {},
   "source": [
    "#### 1st Image Reconstruction from obtained eigen faces as a linear combination\n",
    "\n",
    "## ${\\tau}_{i} = \\psi + \\sum\\limits _{i=1}^{M} u_{i}w_{i}  $\n",
    "\n",
    "\n",
    "### Lets first  calcualte $w_{i}$  for ith image\n",
    "## ${w}_{i} = u_{i}^T{\\phi}_{i}$ where ${w}_{i}$ is the weight of ith image learned from the training set\n",
    "### $\\Omega\\; / \\;w_{i} = [w_{1},w_{2},......, w_{n}] $"
   ]
  },
  {
   "cell_type": "code",
   "execution_count": 21,
   "metadata": {},
   "outputs": [
    {
     "name": "stdout",
     "output_type": "stream",
     "text": [
      "[ 1.01491559e+03 -8.89473849e+02  6.21642268e+02 ...  6.35047570e-14\n",
      " -1.72306613e-13 -3.90798505e-14]\n"
     ]
    }
   ],
   "source": [
    "wt_1a = U.T.dot(Phi[0,:])  ## calcuate w_1a for  1st training image 1a\n",
    "print(wt_1a)  \n",
    "   # as wt_1a is  1a training face,  now test and compare this value with wt_1b of same untrained face \n",
    "## and check whether test image wt_1b is same face as like wt_1a --> if  1a ==== 1b then its same face but with certain threshold "
   ]
  },
  {
   "cell_type": "markdown",
   "metadata": {},
   "source": [
    "## ${\\tau}_{i} = \\psi + \\sum\\limits _{i=1}^{M} u_{i}w_{i}  $\n",
    "## ${\\tau}{1} = \\psi + \\sum\\limits _{i=1}^{M} u_{1}w_{1}  $"
   ]
  },
  {
   "cell_type": "code",
   "execution_count": 36,
   "metadata": {},
   "outputs": [
    {
     "name": "stdout",
     "output_type": "stream",
     "text": [
      "[-17.77777778 -18.         -18.77777778 ...  30.44444444  65.33333333\n",
      "  63.77777778]\n"
     ]
    }
   ],
   "source": [
    "u1a = U.dot(wt_1a)\n",
    "print(u1a)"
   ]
  },
  {
   "cell_type": "code",
   "execution_count": 41,
   "metadata": {},
   "outputs": [
    {
     "name": "stdout",
     "output_type": "stream",
     "text": [
      "[182. 182. 181. ...  81. 123. 122.]\n"
     ]
    }
   ],
   "source": [
    "img_1a =  Psi +  u1a\n",
    "print(img_1a)  # reconstrcted 1st image as a linear combinaiton  matches the original  1st image values as below"
   ]
  },
  {
   "cell_type": "code",
   "execution_count": 40,
   "metadata": {},
   "outputs": [
    {
     "name": "stdout",
     "output_type": "stream",
     "text": [
      "[182 182 181 ...  81 123 122]\n"
     ]
    }
   ],
   "source": [
    "print(tau[0])  # original  1st image pixel values"
   ]
  },
  {
   "cell_type": "markdown",
   "metadata": {},
   "source": [
    "## Perform Image reconstuction of Test set image (1b in this case) using same values of eigen faces/eigen vectors  and mean face obtained from the taining set\n",
    "\n",
    "\n",
    "## ${\\tau}_{test} = \\psi + \\sum\\limits _{i=1}^{M} u_{i}w_{i}  $\n",
    "\n",
    "## ${w}_{i} = u_{i}^T{\\phi}_{test}$\n",
    "### calculate $w_{i}$"
   ]
  },
  {
   "cell_type": "code",
   "execution_count": 30,
   "metadata": {},
   "outputs": [],
   "source": [
    "test_img_array1b = []\n",
    "test_Vec1b = []\n",
    "\n",
    "\n",
    "\n",
    "def data_process():\n",
    "                        test_imag1b = Image.open(f'image data/{1}b.jpg') ## retreive images from current directory ++\n",
    "                          ## ++ using i' current value eg (f'img dt1/{i}a.jpg')- if i =1 then 1a image retreived  \n",
    "                              # print(imag.format)             \n",
    "                          # print(imag.mode)\n",
    "                          # print(imag.size)\n",
    "                          #imag.show()   # display image on desktop by the os        \n",
    "                        test_im1b = test_imag1b.convert('L')\n",
    "                                 # print(im.mode)\n",
    "                        width, height = 50,50\n",
    "                        test_rszed_img1b =  test_im1b.resize((width, height),Image.ANTIALIAS)\n",
    "                             # print(rszed_img.size)\n",
    "                             #rszed_img.show()\n",
    "                             # print(rszed_img.format)\n",
    "                           ## now convert the resized image into numpy array\n",
    "                        test_img_array1b = np.array(test_rszed_img1b)\n",
    "\n",
    "                          # now flatten the 70*70 matrix array into N^2 * 1 column vector = 4900*1 column vector\n",
    "                        test_col_vect_img1b = test_img_array1b.flatten()\n",
    "                               # print(col_vect_img.shape)\n",
    "                        test_Vec1b.append(test_col_vect_img1b)\n",
    "data_process() "
   ]
  },
  {
   "cell_type": "code",
   "execution_count": 32,
   "metadata": {},
   "outputs": [
    {
     "name": "stdout",
     "output_type": "stream",
     "text": [
      "[[186 186 186 ... 108 127 126]]\n"
     ]
    }
   ],
   "source": [
    "tau_tst1b = array(test_Vec1b)  # convert list into 200*2500  matrix\n",
    "print(tau_tst1b)\n"
   ]
  },
  {
   "cell_type": "markdown",
   "metadata": {},
   "source": [
    "### Using calcuated  mean  and eigen vectors from training set images we approximate and represent the test image(1b in this case\") not in training set hecne we calcuate Phi_test for new test image\n",
    "##   $ {\\phi}_{Test}\\; =  {\\tau}_{test} - \\psi$"
   ]
  },
  {
   "cell_type": "code",
   "execution_count": 34,
   "metadata": {},
   "outputs": [
    {
     "name": "stdout",
     "output_type": "stream",
     "text": [
      "[[-13.77777778 -14.         -13.77777778 ...  57.44444444  69.33333333\n",
      "   67.77777778]]\n",
      "(1, 2500)\n"
     ]
    }
   ],
   "source": [
    "# get PHI = subtract mean from each col vector or from each image\n",
    "Phi_Test1b = tau_tst1b - Psi  ## note Psi  is the mean face from traninign set and its not calcuated in the new test image\n",
    "print(Phi_Test1b)   \n",
    "print(Phi_Test1b.shape)"
   ]
  },
  {
   "cell_type": "markdown",
   "metadata": {},
   "source": [
    "#### Test Image Reconstruction from obtained eigen faces as a linear combination\n",
    "\n",
    "## ${\\tau}_{test} = \\psi + \\sum\\limits _{i=1}^{M} u_{i}w_{test}  $\n",
    "\n",
    "## ${w}_{test} = u_{i}^T{\\phi}_{test}$\n",
    "### calcualtion $w_{1b}  \\; first $"
   ]
  },
  {
   "cell_type": "code",
   "execution_count": 35,
   "metadata": {},
   "outputs": [
    {
     "name": "stdout",
     "output_type": "stream",
     "text": [
      "[1055.85153152 -818.45906806  640.03243047 ...    7.79627915  -24.8320599\n",
      "  -10.19741519]\n"
     ]
    }
   ],
   "source": [
    "wt_1b = U.T.dot(Phi_Test1b[0,:])  # note here U is the learned eigen vector obtained from training image dataset \n",
    "## and using this value,  test image can be reconstrcuted \n",
    "print(wt_1b) ### as ohm sign w_i =  wt_test test image weight \n"
   ]
  },
  {
   "cell_type": "code",
   "execution_count": 38,
   "metadata": {},
   "outputs": [
    {
     "name": "stdout",
     "output_type": "stream",
     "text": [
      "[-13.77777778 -14.         -13.77777778 ...  57.44444444  69.33333333\n",
      "  67.77777778]\n"
     ]
    }
   ],
   "source": [
    "u1b = U.dot(wt_1b)\n",
    "print(u1b)"
   ]
  },
  {
   "cell_type": "code",
   "execution_count": 42,
   "metadata": {},
   "outputs": [
    {
     "name": "stdout",
     "output_type": "stream",
     "text": [
      "[186. 186. 186. ... 108. 127. 126.]\n"
     ]
    }
   ],
   "source": [
    "img_1b = Psi + u1b\n",
    "print(img_1b)   ## approximated image value 1b based on obtained training data's  mean face  "
   ]
  },
  {
   "cell_type": "code",
   "execution_count": 43,
   "metadata": {},
   "outputs": [
    {
     "name": "stdout",
     "output_type": "stream",
     "text": [
      "[[186 186 186 ... 108 127 126]]\n"
     ]
    }
   ],
   "source": [
    "print(tau_tst1b)"
   ]
  },
  {
   "cell_type": "markdown",
   "metadata": {},
   "source": [
    "###  NOW MAKE A  COMPUTER RECOGNIZE  WHETHER TWO SAMPLES OF IMAGE ARE SAME OR NOT , USING  EIGEN VECTORS, MEAN FACE  CALCULATED FROM TRAINING DATA\n",
    "\n",
    "### here we check whether  images 1a and 1b are same or not (Really they are two different samples of same image)\n",
    "### Also verify whether the image 1b is same as 2a, 3a, 4a,...9a (really they are images of dfferetn person)\n",
    "\n",
    "### Lets have an algorithm for it as below:"
   ]
  },
  {
   "attachments": {
    "egn%20recog0.JPG": {
     "image/jpeg": "[encoded data removed]"
    },
    "egn%20recog1.JPG": {
     "image/jpeg": "[encoded data removed]"
    },
    "egn%20recog2.JPG": {
     "image/jpeg": "[encoded data removed]"
    }
   },
   "cell_type": "markdown",
   "metadata": {},
   "source": [
    "![egn%20recog0.JPG](attachment:egn%20recog0.JPG)\n",
    "![egn%20recog1.JPG](attachment:egn%20recog1.JPG)\n",
    "## But for simplicity we choose euclidean distance in our case\n",
    "![egn%20recog2.JPG](attachment:egn%20recog2.JPG)\n",
    "### In  the above eigen space there are trained images spanned over the 2d plane and  when a new untested image(1b in our case) is projected into the learned eigen vectors or eigen spaces of the plane then the untested image will remain closer to a point which has similar values of the trained image and hence applying a certain threshold the untested image can be compared as same/different  image with respect to the trained image set \n",
    "##### Image Src: M. Turk and A. Pentland, \"Eigenfaces for Recognition"
   ]
  },
  {
   "cell_type": "markdown",
   "metadata": {},
   "source": [
    "####  lets  compare Image 1b with image1a, 2a and 3a for simplicity \n",
    "## To do this Compute each image's wt vector $W_{i}$ then compare the test image wt vector to other image wt vectors using euclidean distance and see whether $w_{1b} $ closer / (similar  to)  $w_{1a}\\; or\\; w_{2a}\\; or \\;w_{3a}\\; $"
   ]
  },
  {
   "cell_type": "code",
   "execution_count": 44,
   "metadata": {},
   "outputs": [
    {
     "name": "stdout",
     "output_type": "stream",
     "text": [
      "Trained image 1a learned wt =  [ 1.01491559e+03 -8.89473849e+02  6.21642268e+02 ...  6.35047570e-14\n",
      " -1.72306613e-13 -3.90798505e-14]\n",
      "Trained image 1b learned wt =  [1055.85153152 -818.45906806  640.03243047 ...    7.79627915  -24.8320599\n",
      "  -10.19741519]\n"
     ]
    }
   ],
   "source": [
    "## we already calcuated wt_1a and wt_2a above so lets just print it\n",
    "print(\"Trained image 1a learned wt = \", wt_1a)\n",
    "print(\"Trained image 1b learned wt = \", wt_1b)\n"
   ]
  },
  {
   "cell_type": "code",
   "execution_count": 45,
   "metadata": {},
   "outputs": [
    {
     "name": "stdout",
     "output_type": "stream",
     "text": [
      "[-3.47399897e+02  1.50236839e+03 -5.35017344e+02 ... -1.21680443e-13\n",
      "  1.34392497e-13  9.76996262e-14]\n"
     ]
    }
   ],
   "source": [
    "wt_2a = U.T.dot(Phi[1,:])  # wt of trained 2a image \n",
    "print(wt_2a)  "
   ]
  },
  {
   "cell_type": "code",
   "execution_count": 46,
   "metadata": {},
   "outputs": [
    {
     "name": "stdout",
     "output_type": "stream",
     "text": [
      "[ 5.34793478e+02 -3.55669590e+02  1.03582135e+03 ...  7.83817455e-14\n",
      "  2.23931984e-13 -8.92619312e-14]\n"
     ]
    }
   ],
   "source": [
    "wt_3a = U.T.dot(Phi[2,:])  # wt of trained 2a image \n",
    "print(wt_3a) "
   ]
  },
  {
   "cell_type": "markdown",
   "metadata": {},
   "source": [
    "### For simplicty lets just take two weights w1 and w2 of each image 1a,2a,3a and compare them with test image 1b"
   ]
  },
  {
   "cell_type": "code",
   "execution_count": 48,
   "metadata": {},
   "outputs": [
    {
     "name": "stdout",
     "output_type": "stream",
     "text": [
      "First two weights of test image 1b =   [1055.85153152 -818.45906806]\n",
      "First two weights of train image 1a =   [1014.91559381 -889.47384904]\n",
      "First two weights of train image 2a =   [-347.39989747 1502.36839211]\n",
      "First two weights of train image 3a =   [ 534.79347755 -355.66958993]\n"
     ]
    }
   ],
   "source": [
    "print(\"First two weights of test image 1b =  \", wt_1b[:2])   # take 1st two weigths of untrained image 1b \n",
    "print(\"First two weights of train image 1a =  \", wt_1a[:2])   # take 1st two weigths of trained image 1a \n",
    "print(\"First two weights of train image 2a =  \", wt_2a[:2])   # take 1st two weigths of trained image 2a\n",
    "print(\"First two weights of train image 3a =  \", wt_3a[:2])   # take 1st two weigths of trained image 3a\n"
   ]
  },
  {
   "cell_type": "markdown",
   "metadata": {},
   "source": [
    "### Even from above values we can say test image 1b adn 1a have very simialr values as compared to train images 2a and 3a \n",
    "### lest compare the euclidean distance between each train image and test image 1b then  see where image 1b is nearer to hence based on closeness  and threshold values we place the test image 1b into that trained image category "
   ]
  },
  {
   "cell_type": "code",
   "execution_count": 49,
   "metadata": {},
   "outputs": [
    {
     "name": "stdout",
     "output_type": "stream",
     "text": [
      "The distance between 1b untrained image and 1a  trained is 81.96859224202315\n"
     ]
    }
   ],
   "source": [
    "import math\n",
    " \n",
    "d1a_1b = math.sqrt(((wt_1b[0] - wt_1a[0]) ** 2) + ((wt_1b[1] - wt_1a[1]) ** 2))\n",
    "print(\"The distance between 1b untrained image and 1a  trained is\", d1a_1b )"
   ]
  },
  {
   "cell_type": "code",
   "execution_count": 50,
   "metadata": {},
   "outputs": [
    {
     "name": "stdout",
     "output_type": "stream",
     "text": [
      "The distance between 1b untrained image and 2a trained image is 2712.0757129616695\n"
     ]
    }
   ],
   "source": [
    "d1b_2a = math.sqrt(((wt_1b[0] - wt_2a[0]) ** 2) + ((wt_1b[1] - wt_2a[1]) ** 2))\n",
    "\n",
    "print(\"The distance between 1b untrained image and 2a trained image is\",d1b_2a )"
   ]
  },
  {
   "cell_type": "code",
   "execution_count": 51,
   "metadata": {},
   "outputs": [
    {
     "name": "stdout",
     "output_type": "stream",
     "text": [
      "The distance between 1b untrained image and 2a trained image is 696.904295208033\n"
     ]
    }
   ],
   "source": [
    "d1b_3a = math.sqrt(((wt_1b[0] - wt_3a[0]) ** 2) + ((wt_1b[1] - wt_3a[1]) ** 2))\n",
    "\n",
    "print(\"The distance between 1b untrained image and 2a trained image is\",d1b_3a )"
   ]
  },
  {
   "cell_type": "markdown",
   "metadata": {},
   "source": [
    "### From the above calculated distance,  image 1a and 1b can be considered same  image as its ditance is nearer among 1a,2a,3a trained images \n",
    "#### Note --> but we also need to consider the threshold distance that makes the two different images same which is not discussed in this part.  \n",
    "\n",
    "#### Just based on closeness of the images we can't say the test image is same as the trained one there must be certain threshold so that the algorithm can compare two images as same or different\n",
    "\n",
    "#### In short not every image that are close to each other  be considered as same but so for simplicity  this post just shows how a computer can recognize faces . More accuarate results will be done on the chpater of deep neural networks like CNN."
   ]
  },
  {
   "cell_type": "markdown",
   "metadata": {},
   "source": [
    "### Lets Visulaiuze the same in 2d plane as below"
   ]
  },
  {
   "cell_type": "code",
   "execution_count": 52,
   "metadata": {},
   "outputs": [
    {
     "data": {
      "image/png": "[encoded data removed]",
      "text/plain": [
       "<Figure size 432x288 with 1 Axes>"
      ]
     },
     "metadata": {
      "needs_background": "light"
     },
     "output_type": "display_data"
    }
   ],
   "source": [
    "import matplotlib.pyplot as plt\n",
    " \n",
    "plt.scatter(wt_1b[0],wt_1b[1])\n",
    "plt.scatter(wt_1a[0],wt_1a[1])\n",
    "plt.scatter(wt_2a[0],wt_2a[1])\n",
    "plt.scatter(wt_3a[0],wt_3a[1])\n",
    "plt.legend([\"test_img_1b\",\"trn_img_1a\",\"trn_img_2a\",\"trn_img_3a\"])\n",
    "plt.show() "
   ]
  },
  {
   "cell_type": "markdown",
   "metadata": {},
   "source": [
    "#### From the  above plot lib also we can see that coordinate point of image1a(orange dot) and 1b (blue dot) are close to each other than 2a(green dot) and 3a (red dot) "
   ]
  },
  {
   "cell_type": "markdown",
   "metadata": {},
   "source": [
    "### This is how an algorithm/Computer  can recognize faces using application of eigen vectors and PCA"
   ]
  },
  {
   "cell_type": "markdown",
   "metadata": {},
   "source": [
    "## Refrences\n",
    "1. Eigenfaces for Face Detection/Recognition(M. Turk and A. Pentland, \"Eigenfaces for Recognition\", Journal of Cognitive Neuroscience, vol.3, no. 1, pp. 71-86, 1991\n",
    "2. Introduction To Linear Algerba, 5th Edition, Gilbert Strang\n",
    "3. https://2nepalschool.naamii.org.np/  Day 2 Lecture by Binod Bhattarai,\"Feature Representations : Classical vs Modern\"\n",
    "\n",
    "### Many Many thanks to NAAMII (https://www.naamii.org.np/ ) for organizing \"2nd Nepal winter school in AI\"with world class experts and enthusiastic learners from around the globe.\n",
    "**** \n",
    "I am extremly thankful to <b> Dr. Binod Bhattarai (General Co-chair Second Nepal Winter School in AI, 2019) for presenting detailed lectures on  \"Feature Representations : Classical vs Modern\" and providing a wonderful lab task.</b> <u>His lectures and lab task provided me insights on the application of linear algebra and its wonders to real world.</u>  \n",
    "\n",
    "*** \n",
    "<font color = Blue><b>At present Dr. Bhattarai is an Assistant Professor in the Natural and Computing School of the University of Aberdeen. His  research interests are machine learning, computer vision, and medical image analysis. You can acess his home page @ https://sites.google.com/view/bbinod/home </b> </font>"
   ]
  },
  {
   "cell_type": "code",
   "execution_count": null,
   "metadata": {},
   "outputs": [],
   "source": []
  }
 ],
 "metadata": {
  "kernelspec": {
   "display_name": "Python 3",
   "language": "python",
   "name": "python3"
  },
  "language_info": {
   "codemirror_mode": {
    "name": "ipython",
    "version": 3
   },
   "file_extension": ".py",
   "mimetype": "text/x-python",
   "name": "python",
   "nbconvert_exporter": "python",
   "pygments_lexer": "ipython3",
   "version": "3.7.4"
  }
 },
 "nbformat": 4,
 "nbformat_minor": 2
}
