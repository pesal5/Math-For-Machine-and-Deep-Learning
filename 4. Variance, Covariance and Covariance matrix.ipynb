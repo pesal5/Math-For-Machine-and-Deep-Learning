{
 "cells": [
  {
   "cell_type": "markdown",
   "metadata": {},
   "source": [
    "###  Before directly going to the topic of variance and covariance lets start with Random variable and expected value.\n"
   ]
  },
  {
   "cell_type": "markdown",
   "metadata": {},
   "source": [
    "## Sample Space is the set of all possible outcomes of a random experiment\n",
    "\n",
    "## Random Variable is a function that assigns a numerical value to each outcome of a sample space or randomexperiment\n",
    "\n",
    "## Let's suppose Random Variable X = sum of scores of two six sided dice.\n",
    "### Then the sample space  = {2,3,4,5,6,7,8,9,10,11,12} and total 6*6 = 36 possible outcomes\n",
    "#### Lets see how often each value occurs and then calculate the probabilities\n",
    "#### 2 occurs once , P(X=2) = 1/36\n",
    "#### 3 occurs twice, P(X=3) = 2/36  = 1/18\n",
    "#### 4 occurs thrice ,P(X=4) = 3/36  = 1/12\n",
    "#### 5 occurs four times ,P(X=5) = 4/36  = 1/9\n",
    "#### 6 occurs five times ,P(X=6) = 5/36  \n",
    "#### 7 occurs six times ,P(X=7) = 6/36 = 1/6\n",
    "#### 8 occurs five times ,P(X=8) = 5/36\n",
    "#### 9 occurs four times ,P(X=9) = 4/36 = 1/9\n",
    "#### 10 occurs three times ,P(X=10) = 3/36 = 1/12\n",
    "#### 11 occurs twice ,P(X=11) = 2/36 = 1/18\n",
    "#### 12 occurs once ,P(X=12) = 1/36\n",
    "https://www.mathsisfun.com/data/random-variables.html"
   ]
  },
  {
   "cell_type": "markdown",
   "metadata": {},
   "source": [
    "### Expected Value of a Discrete Random Variable\n",
    "#### Random Variable $\\rightarrow $ A variable representing numerical outcomes in a sample space of probability experiments. An example of discrete random variable is a random variable taking  value of 1/6 in each outcome for rolling a six sided dice.<br>\n",
    "\n",
    "### For such discrete random variable , we get the expected value as the summing  the product of  the probability of each outcome and numerical value for that outcome <br>\n",
    "$  (1/6) *1 + (1/6)*2 + 1/6*(3) + (1/6)*4 + (1/6) *5 + (1/6)*6 $ <br>\n",
    "= 3.5\n",
    "\n",
    "### For a discrete random variable X, the expected X value  or $\\mu$ is given by <br>\n",
    "### $ E[X] = \\mu = \\sum\\limits_{x=0} x * P(X =x)$\n",
    "src:https://brilliant.org/wiki/expected-value/"
   ]
  },
  {
   "cell_type": "markdown",
   "metadata": {},
   "source": [
    "## Expected value is given by  probability of the weighted sum of values.\n",
    "#### $E[X] = \\sum (x_{1}* p_{1}, x_{2}* p_{2},  x_{n}* p_{n}) $\n",
    "#### In cases where events are equally likely, expected value can be cacluated as the prodcut of sum of all values and reciprocal of total number of values.\n",
    ">\n",
    "$E[X] = 1/n * \\sum (x_{1}, x_{2}, x_{n}) $\n",
    "### The above equation is similar to mean value hence we can write the above equaiton as \n",
    "$\\mu = 1/n * \\sum (x_{1}, x_{2}, x_{n}) $\n",
    "\n",
    "#### $\\mu = P(x)* \\sum x $, where x is the number of observations and P(x) is the probability of each x value\n",
    "src: https://machinelearningmastery.com/introduction-to-expected-value-variance-and-covariance/\n",
    "### The mean value for a specific variable or attribute is given by <br>$ \\bar x = 1/n * \\sum x_{i}  $<br>\n",
    "In numpy mean can be calcuated by function \"mean()\""
   ]
  },
  {
   "cell_type": "markdown",
   "metadata": {},
   "source": [
    "## Calulate mean from matrix elements by:\n",
    "### 1. mean of the column by specifying  axis = 0 in the mean()  function\n",
    "\n",
    "###  2. mean of the row elements of a matrix  by specifying axis = 1 in the mean()  function"
   ]
  },
  {
   "cell_type": "code",
   "execution_count": 5,
   "metadata": {},
   "outputs": [
    {
     "name": "stdout",
     "output_type": "stream",
     "text": [
      "The row wise mean of each subarray  is [4.5  1.25]\n",
      "The column mean is  [5.5 1.  3.  2. ]\n"
     ]
    }
   ],
   "source": [
    "import numpy as np\n",
    "\n",
    "M = np.array([[8,1,3,6],[3,1,3,-2]])\n",
    "rw_mn = np.mean(M,axis= 1)\n",
    "print(\"The row wise mean of each subarray  is\", rw_mn)\n",
    "cl_mn = np.mean(M, axis = 0)\n",
    "print(\"The column mean is \", cl_mn)"
   ]
  },
  {
   "cell_type": "markdown",
   "metadata": {},
   "source": [
    "## Variance ($\\sigma^{2}  or VAR(X) $ ) \n",
    "### It measures how much values in a data distribtuion varies on average  from the mean value. \n",
    "### Mathematically it is the average squared difference of each random variable's value (X) from the  expected mean E[X] and is given by the following equation:\n",
    "###                             $ VAR(X)  = E(X - E[X])^{2}, \\;\\;\\;\\;where E[X] = \\mu_x^{2}$\n",
    "\n",
    "### expanding the above equation for each value of a random variable we get  as below:\n",
    "###                             $ VAR(X)  = \\sum ( \\;\\; P(x_1)*(x_1-E[X])^{2} + P(x_2)*(x_2-E[X])^{2} + ....... + (P(x_n)*(x_n-E[X])^{2} \\;\\;)$ \n",
    "\n",
    "### If the probability of each observation is equal like in the case of a fair dice or a coin toss the above equation becomes:   $ VAR(X)  = 1/n *  \\sum \\;\\; (x_1 - E[X])^{2} + (x_2 - E[X])^{2} + ......... + (x_n - E[X])^{2}) \\;\\; $"
   ]
  },
  {
   "cell_type": "code",
   "execution_count": 6,
   "metadata": {},
   "outputs": [
    {
     "name": "stdout",
     "output_type": "stream",
     "text": [
      "[  32.   612.5 1800.  2450. ]\n",
      "[   1.66666667 1296.91666667]\n"
     ]
    }
   ],
   "source": [
    "from numpy import array\n",
    "from numpy import var\n",
    "M = array([[20,21,22,23],[12,56,82,3]])\n",
    "Clmn_Var = var(M, ddof=1, axis =0)\n",
    "print(Clmn_Var)\n",
    "Rw_Var = var(M, ddof=1, axis =1)\n",
    "print(Rw_Var)"
   ]
  },
  {
   "cell_type": "markdown",
   "metadata": {},
   "source": [
    "### Standard Deviation   $ (\\sigma \\;\\;  or \\;\\; \\sqrt(sigma^{2}) $\n",
    "####  In standard statistical practice, ddof=1 provides an unbiased estimator of the variance of the infinite population. ddof=0 provides a maximum likelihood estimate of the variance for normally distributed variables. The standard deviation computed in this function is the square root of the estimated variance, so even with ddof=1, it will not be an unbiased estimate of the standard deviation per se. \n",
    "\n",
    "ddof parameter enables you to specify the “degrees of freedom” for the variance calculation, and it typically has to do with whether we’re calculating a population variance or a sample variance. https://www.sharpsightlabs.com/blog/numpy-variance/"
   ]
  },
  {
   "cell_type": "code",
   "execution_count": 7,
   "metadata": {},
   "outputs": [
    {
     "name": "stdout",
     "output_type": "stream",
     "text": [
      "[ 5.65685425 24.74873734 42.42640687 49.49747468]\n",
      "[ 1.29099445 36.01272923]\n"
     ]
    }
   ],
   "source": [
    "from numpy import array\n",
    "from numpy import std\n",
    "M = array([[20,21,22,23],[12,56,82,93]])\n",
    "Clmn_Std = std(M, ddof=1, axis =0)  \n",
    "print(Clmn_Std)\n",
    "Rw_Std = std(M, ddof=1, axis =1)\n",
    "print(Rw_Std)"
   ]
  },
  {
   "cell_type": "markdown",
   "metadata": {},
   "source": [
    "## Covariance and Correlation  --> both terms describe how much two random variables deviate from expected values\n",
    "\n",
    "### Note -->Variance and Covariance difference --> Variance describes how much a particular random variable deviates from the mean value while covaraince describes how much the random variables in a dataset chnage with respect to each other.\n",
    "\n",
    "### Covariance  --> <u>describes how two variables change together <u>i.e how change in one random variable affects a change in another varaible in same or opposite direction.  \n",
    "\n",
    "### In covariance the magnitude can range from $ - \\infty \\;\\; to \\;\\; + \\infty $   but more than magnitude  the sign matters much. +ve value dentoes a direct relationship (i.e.when one value increases then the other increases too  )where as -ve value means the variables are inversely proportional \n",
    "#### (Inverse Relationship-->i.e. an increase in one variable's value  implies a decrease in another variable's value)\n",
    "\n",
    "### Covariance of magnitude 0 means two varaibles are independent of each other\n",
    "\n",
    "#### Mathematically Covariance for two variables X and Y is given by:\n",
    "###                                           $ Cov(X,Y) \\;\\; =   [ (X-E(X)) \\;\\; * \\;\\; (Y - E(Y)) \\;\\;] \\;\\;$, where X is the probability of a random variable X, E(X) is the expected value of X and Y is the probability of a random variable Y, E(Y) is the expected value of Y. \n",
    "\n",
    "#### For each X and Y with equal probability distribution we can expand the above equation for each value of a random variable X and Y respectively as follow:\n",
    "\n",
    "##                                                $Cov(X,Y) \\;\\; = \\;1/n\\; * \\sum_{i = 1}^{n}\\;(x_{i}-E(X))\\;*\\;(y_{i}-E(Y))$                           \n",
    "### For sample variance with a bias correction is given as \n",
    "##                                                $Cov(X,Y) \\;\\; = \\;1/(n-1)\\; * \\sum_{i = 1}^{n}\\;(x_{i}-E(X))\\;*\\;(y_{i}-E(Y))$      \n",
    "### This is what we are going to use while we calcuate the sample variance in our python code. \n",
    "\n",
    "### The \"n-1\" term in the denominator means that we are not sure about the real population mean since the data is a sample. But if we have a data of whole poupulation then we use \"n\" in the denominator part.  https://www.mathsisfun.com/data/covariance.html "
   ]
  },
  {
   "cell_type": "code",
   "execution_count": 8,
   "metadata": {},
   "outputs": [
    {
     "name": "stdout",
     "output_type": "stream",
     "text": [
      "17575.0\n"
     ]
    }
   ],
   "source": [
    "from numpy import array\n",
    "from numpy import cov\n",
    "X =  array([14, 25,30,40])  ## Vector elemetns representing the temperature value \n",
    "Y = array([200,500,2000,4000])  ## and the 2nd vector reprsting 1st vector's corresponding sales of icy water\n",
    "            \n",
    "## What relation exists between X and Y we want to find out using covariance\n",
    "cov_variance = cov(X,Y)[0,1]  ## here [0,1] dentoes calculating covariacne of two varaibles\n",
    "print(cov_variance)\n"
   ]
  },
  {
   "cell_type": "markdown",
   "metadata": {},
   "source": [
    "### since covariance is  positive it means as X increases Y also increases because from the data also we can infer that as the temprerature increases the sales of icy water increases.  \n",
    "### To get the covariance value between -1 and  +1 we can normalize it by dividing with the product of standard deviation of X and Y. The resulting value is called the correlation also called pearson correlation coefficient. \n",
    "\n",
    "## Correlation (r)  -> determines how strong is the relation between variables \n",
    "##                           $ r = COV(X,Y)/(\\sigma_X*\\sigma_Y) $\n",
    "where r is the correlation coefficient of X and Y, $\\sigma_X and \\;\\sigma_Y $are the standard deviation of X and Y respectively and COV(X,Y) is the covraicne of X and Y       "
   ]
  },
  {
   "cell_type": "code",
   "execution_count": 9,
   "metadata": {},
   "outputs": [
    {
     "name": "stdout",
     "output_type": "stream",
     "text": [
      "0.9349189581607575\n"
     ]
    }
   ],
   "source": [
    "from numpy import array\n",
    "from numpy import corrcoef\n",
    "X =  array([14, 25,30,40])  ## Vector elemetns representing the temperature value \n",
    "Y = array([200,500,2000,4000])  ## and the 2nd vector reprsting 1st vector's corresponding sales of icecream\n",
    "            \n",
    "## What relation exists between X and Y we want to find out using covariance\n",
    "r = corrcoef(X,Y)[0,1]  ## here [0,1] dentoes calculating correlation of two varaibles  X and Y\n",
    "print(r)\n"
   ]
  },
  {
   "cell_type": "markdown",
   "metadata": {},
   "source": [
    "## The above value indicates that  the vectors have high positive correlation as it is nearer to +1`\n",
    "## Covariance Matrix / Variance -Covariance matrix  --> indicates how varied a dataset is\n",
    "### The covariance matrix is square and symmetric and gives us variance between the random variables involved in a dataset\n",
    "\n",
    "##      $    C_{X,Y} =  \\begin{bmatrix} \\sigma_{(X,X)} & \\sigma_{(X,Y)} \\\\ \\sigma_{(Y,X)} & \\sigma_{(Y,Y)}\\end {bmatrix}   $\n",
    "in the above matrix the diagonal elements are the varainces of the variable and non diagonal elements represet the covariance of one variable with the other\n",
    "\n",
    "### Lets calculate the covariance for below table\n",
    "\n",
    "|Temperature(X)||Icecream Sales(Y)|\n",
    "|--||--|\n",
    " |14.2||\\$215|\n",
    " |16.4||\\$325|\n",
    " |15.2||\\$332|\n",
    " |22.6||\\$445|\n",
    " |17.2||\\$408|\n",
    " \n",
    " Src: table value taken from -->https://www.mathsisfun.com/data/covariance.html \n",
    "  \n",
    "##   To calcuate expected value, variance and covariance we have the following equation\n",
    "\n",
    "###    E(X) = $ 1/n\\;*\\;\\sum_{i=1}^{n}x_i $\n",
    "\n",
    "####   $ E(X) = (14.2+16.4+15.2+22.6+17.2) / 5 = 17.12 \\; and \\;E(Y) = (215+325+332+445+408)/5 = 345 $\n",
    "\n",
    "## $ VAR(X)  = 1/(n-1) *  \\sum \\;\\; ( x_1 - E(X))^{2} + (x_2 - E(X))^{2} + ......... + (x_n - E(X))^{2} \\;\\; $\n",
    "\n",
    "### Var(X) = 1/(5-1)  * [$(14.2-17.12)^{2}+(16.4-17.12)^{2}+(15.2-17.12)^{2}+(22.6-17.12)^2+(17.2-17.12)^{2}$] = 10.692\n",
    "### similary for  VAR(Y) = 1/(5-1) * [$(215-345)^{2}+(325-345)^{2}+(332-345)^{2}+(445-345)^{2}+(408-345)^{2}$] \n",
    "###               VAR(Y)         = 7859.5\n",
    "\n",
    "## $Cov(X,Y) \\;\\; = \\;1/(n-1)\\; * \\sum_{i = 1}^{n}\\;(x_{i}-E(X))\\;*\\;(y_{i}-E(Y))$   \n",
    "\n",
    "### Cov(X,Y)= 1/(5-1)*[(14.2−17.12)(215−345)+(16.4−17.12)(325−345)+(15.2−17.12)(332−345)+(22.6−17.12)(445−345)+(17.2−17.12)(408−345)]\n",
    "\n",
    "### Cov(X,Y) = Cov(Y,X) = 243 \n",
    "##      $    C_{X,Y} =  \\begin{bmatrix} \\sigma_{(X,X)} & \\sigma_{(X,Y)} \\\\ \\sigma_{(Y,X)} & \\sigma_{(Y,Y)}\\end {bmatrix}   $\n",
    "##      $    C_{X,Y} =  \\begin{bmatrix} 10.692 & 243 \\\\ 243 & 7859.5\\end {bmatrix}   $\n",
    "## Note that $\\sigma_{(X,Y)} = \\sigma_{(Y,X)}$\n",
    "###  The diagonal of the covariance matrix are the variances of random variable X and Y and the non diagonal elements represents eacrandom varaible's  corresponding covarainces "
   ]
  },
  {
   "cell_type": "code",
   "execution_count": 11,
   "metadata": {},
   "outputs": [
    {
     "name": "stdout",
     "output_type": "stream",
     "text": [
      "The MATRIX IS \n",
      "[[ 14.2 215. ]\n",
      " [ 16.4 325. ]\n",
      " [ 15.2 332. ]\n",
      " [ 22.6 445. ]\n",
      " [ 17.2 408. ]]\n",
      "Below is the calculated covariance matrix for random variable X and Y\n",
      "[[  10.692  243.   ]\n",
      " [ 243.    7859.5  ]]\n"
     ]
    }
   ],
   "source": [
    "from numpy import array\n",
    "from numpy import cov\n",
    "M = array([[14.2,215],[16.4,325],[15.2,332],[22.6,445],[17.2,408]])\n",
    "print(\"The MATRIX IS \" )\n",
    "print(M)\n",
    "Co_vrnc_XY = cov (M.T)\n",
    "print(\"Below is the calculated covariance matrix for random variable X and Y\")\n",
    "print(Co_vrnc_XY)"
   ]
  },
  {
   "cell_type": "markdown",
   "metadata": {},
   "source": [
    "## So what insight can we get from the above dataset using covariance matrix???\n",
    "\n",
    "### From the above covariance matrix we can see that covariance value Cov(X,Y) = 243 is positive so it means that as the value of X increases Y also increases.\n",
    "\n",
    "###  In other words  usign covariance matrix,  the insight that we get from this dataset is that \" A kind of linear relationship exists between Temperature (X) and Ice cream sales(Y) for this particular sample data.\" "
   ]
  },
  {
   "cell_type": "code",
   "execution_count": null,
   "metadata": {},
   "outputs": [],
   "source": []
  }
 ],
 "metadata": {
  "kernelspec": {
   "display_name": "Python 3",
   "language": "python",
   "name": "python3"
  },
  "language_info": {
   "codemirror_mode": {
    "name": "ipython",
    "version": 3
   },
   "file_extension": ".py",
   "mimetype": "text/x-python",
   "name": "python",
   "nbconvert_exporter": "python",
   "pygments_lexer": "ipython3",
   "version": "3.7.4"
  }
 },
 "nbformat": 4,
 "nbformat_minor": 2
}
